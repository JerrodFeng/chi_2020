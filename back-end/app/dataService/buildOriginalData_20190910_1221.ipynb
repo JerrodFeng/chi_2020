{
 "cells": [
  {
   "cell_type": "code",
   "execution_count": 1,
   "metadata": {},
   "outputs": [
    {
     "name": "stdout",
     "output_type": "stream",
     "text": [
      "open json file finish\n",
      "insert finish\n"
     ]
    }
   ],
   "source": [
    "from pymongo import MongoClient\n",
    "import pandas as pd\n",
    "# with open('../../app/data/D1_data.csv') as csv_file:\n",
    "#     originalData = csv.reader(csv_file)\n",
    "\n",
    "dfOriginalData = pd.read_csv('D1_data.csv')  # 读取训练数据\n",
    "# print(originalData.shape)\n",
    "originalDataDict = dfOriginalData.to_dict(orient='records')\n",
    "print('open json file finish')\n",
    "\n",
    "\n",
    "\n",
    "client = MongoClient('localhost', 27017)\n",
    "mydb = client['Dong_chi_2020']\n",
    "# collection = mydb['lassoedDataInformation']\n",
    "collection = mydb['originalDataDict']\n",
    "collection.drop()\n",
    "for i in range(len(originalDataDict)):\n",
    "    collection.insert_one(originalDataDict[i])\n",
    "print('insert finish')"
   ]
  },
  {
   "cell_type": "code",
   "execution_count": null,
   "metadata": {},
   "outputs": [],
   "source": []
  }
 ],
 "metadata": {
  "kernelspec": {
   "display_name": "Python 3",
   "language": "python",
   "name": "python3"
  },
  "language_info": {
   "codemirror_mode": {
    "name": "ipython",
    "version": 3
   },
   "file_extension": ".py",
   "mimetype": "text/x-python",
   "name": "python",
   "nbconvert_exporter": "python",
   "pygments_lexer": "ipython3",
   "version": "3.5.4"
  }
 },
 "nbformat": 4,
 "nbformat_minor": 2
}
