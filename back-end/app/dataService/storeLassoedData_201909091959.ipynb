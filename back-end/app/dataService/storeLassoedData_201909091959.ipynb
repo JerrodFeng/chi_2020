{
 "cells": [
  {
   "cell_type": "code",
   "execution_count": 1,
   "metadata": {},
   "outputs": [
    {
     "name": "stdout",
     "output_type": "stream",
     "text": [
      "open json file finish\n",
      "insert finish\n"
     ]
    }
   ],
   "source": [
    "## 存入数据\n",
    "import numpy as np\n",
    "import pandas as pd\n",
    "import json\n",
    "import csv\n",
    "from pymongo import MongoClient\n",
    "with open('../../app/data/lassoedPoints_20190909_180435.json') as json_file:\n",
    "    lassoedDataInformation = json.load(json_file)\n",
    "print('open json file finish')\n",
    "\n",
    "\n",
    "\n",
    "client = MongoClient('localhost', 27017)\n",
    "mydb = client['Dong_chi_2020']\n",
    "collection = mydb['lassoedDataInformation']\n",
    "for i in range(len(lassoedDataInformation)):\n",
    "    collection.insert_one(lassoedDataInformation[i])\n",
    "print('insert finish')"
   ]
  },
  {
   "cell_type": "code",
   "execution_count": null,
   "metadata": {},
   "outputs": [],
   "source": []
  }
 ],
 "metadata": {
  "kernelspec": {
   "display_name": "Python 3",
   "language": "python",
   "name": "python3"
  },
  "language_info": {
   "codemirror_mode": {
    "name": "ipython",
    "version": 3
   },
   "file_extension": ".py",
   "mimetype": "text/x-python",
   "name": "python",
   "nbconvert_exporter": "python",
   "pygments_lexer": "ipython3",
   "version": "3.5.4"
  }
 },
 "nbformat": 4,
 "nbformat_minor": 2
}
