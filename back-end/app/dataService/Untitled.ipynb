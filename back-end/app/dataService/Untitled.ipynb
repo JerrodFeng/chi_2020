{
 "cells": [
  {
   "cell_type": "code",
   "execution_count": 2,
   "metadata": {},
   "outputs": [],
   "source": [
    "from datetime import datetime\n",
    "import json\n",
    "\n",
    "currentTimeSaveFile = datetime.now()\n",
    "lassoedDataInformationFileName = 'lassoedDataInformation_' + currentTimeSaveFile.strftime('%Y%m%d') + '_' + currentTimeSaveFile.strftime('%H%M%S') + '.json'\n",
    "\n",
    "with open(lassoedDataInformationFileName, 'w') as outFile:\n",
    "    json.dump({'lassoedDataInformation': 'Dong'}, outFile)"
   ]
  },
  {
   "cell_type": "code",
   "execution_count": null,
   "metadata": {},
   "outputs": [],
   "source": []
  }
 ],
 "metadata": {
  "kernelspec": {
   "display_name": "Python 3",
   "language": "python",
   "name": "python3"
  },
  "language_info": {
   "codemirror_mode": {
    "name": "ipython",
    "version": 3
   },
   "file_extension": ".py",
   "mimetype": "text/x-python",
   "name": "python",
   "nbconvert_exporter": "python",
   "pygments_lexer": "ipython3",
   "version": "3.5.4"
  }
 },
 "nbformat": 4,
 "nbformat_minor": 2
}
