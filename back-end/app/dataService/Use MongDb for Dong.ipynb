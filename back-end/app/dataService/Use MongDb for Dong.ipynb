{
 "cells": [
  {
   "cell_type": "code",
   "execution_count": 1,
   "metadata": {},
   "outputs": [
    {
     "name": "stderr",
     "output_type": "stream",
     "text": [
      "C:\\Users\\dsunae\\Anaconda3\\envs\\py35\\lib\\site-packages\\ipykernel_launcher.py:30: DeprecationWarning: insert is deprecated. Use insert_one or insert_many instead.\n"
     ]
    },
    {
     "name": "stdout",
     "output_type": "stream",
     "text": [
      "finish\n"
     ]
    }
   ],
   "source": [
    "# 将数据整理从csv读入整理之后写出(批处理)\n",
    "import numpy as np\n",
    "import pandas as pd\n",
    "import json\n",
    "import csv\n",
    "from pymongo import MongoClient\n",
    "\n",
    "client = MongoClient('localhost', 27017)\n",
    "mydb = client['Dong_chi_2020']\n",
    "\n",
    "monthArray = [201708, 201709, 201710, 201711, 201712, 201801, 201802, 201803, 201804, 201805, 201806, 201807]\n",
    "for i in range(len(monthArray)):\n",
    "    month = str(monthArray[i])\n",
    "    key = {'data':[{'collection':'collection_'+str(month), 'modelProduct':'modelProduct_'+str(month)}]}\n",
    "    with open('../../app/data/model-product_'+str(month)+'.json') as json_file:\n",
    "        data = json.load(json_file)\n",
    "#     key['data'][0]['collection']= mydb[str(month)]\n",
    "    collection = mydb[key['data'][0]['collection']]\n",
    "    key['data'][0]['modelProduct']= data['data']  \n",
    "    \n",
    "    with open('../../app/data/modelProduct_'+str(month)+'.csv', mode='w') as csv_file:\n",
    "        fieldnames = ['model', 'realValue', 'item', 'accuracy', 'predictValue']\n",
    "        writer = csv.DictWriter(csv_file, fieldnames=fieldnames)\n",
    "        writer.writeheader()\n",
    "        for i in range(len(key['data'][0]['modelProduct'])):        \n",
    "            writer.writerow({'model': key['data'][0]['modelProduct'][i]['model'], 'realValue':key['data'][0]['modelProduct'][i]['realValue'], 'item':key['data'][0]['modelProduct'][i]['item'], 'accuracy':key['data'][0]['modelProduct'][i]['accuracy'], 'predictValue':key['data'][0]['modelProduct'][i]['predictValue']})\n",
    "    with open('../../app/data/modelProduct_'+str(month)+'.csv', mode='r') as csv_file:        \n",
    "        csv_reader = csv.DictReader(csv_file)\n",
    "        for each in csv_reader:\n",
    "            collection.insert(each)\n",
    "print('finish')    "
   ]
  },
  {
   "cell_type": "code",
   "execution_count": null,
   "metadata": {},
   "outputs": [],
   "source": []
  }
 ],
 "metadata": {
  "kernelspec": {
   "display_name": "Python 3",
   "language": "python",
   "name": "python3"
  },
  "language_info": {
   "codemirror_mode": {
    "name": "ipython",
    "version": 3
   },
   "file_extension": ".py",
   "mimetype": "text/x-python",
   "name": "python",
   "nbconvert_exporter": "python",
   "pygments_lexer": "ipython3",
   "version": "3.5.4"
  }
 },
 "nbformat": 4,
 "nbformat_minor": 2
}
